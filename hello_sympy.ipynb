{
 "cells": [
  {
   "cell_type": "code",
   "execution_count": 1,
   "metadata": {
    "collapsed": true
   },
   "outputs": [],
   "source": [
    "from sympy import *\n",
    "init_printing(use_unicode=False, wrap_line=False, no_global=True)\n",
    "x, y, z, t = symbols('x y z t')\n",
    "k, m, n = symbols('k m n', integer=True)\n",
    "f, g, h = symbols('f g h', cls=Function)"
   ]
  },
  {
   "cell_type": "code",
   "execution_count": 19,
   "metadata": {
    "collapsed": false
   },
   "outputs": [
    {
     "name": "stdout",
     "output_type": "stream",
     "text": [
      "1\n",
      "1\n",
      "-log(pi)/2\n"
     ]
    }
   ],
   "source": [
    "def infitg(whatever):\n",
    "    return integrate(whatever,(x,-oo,oo),(y,-oo,oo))\n",
    "\n",
    "var = 100\n",
    "print(infitg(exp((-x**2-y**2)/var)/(pi*var)))\n",
    "# print(infitg((exp(-x**2/var + log(sqrt(var) * sqrt(1/pi/var))) - exp(var)) * (exp(-y**2/var + log(sqrt(var)*sqrt(1/pi/var)))-exp(var))))\n",
    "print(infitg(exp((-x**2/var + log(1/pi/var)/2)) * exp(-y**2/var + log(1/pi/var)/2)))\n",
    "\n",
    "print(simplify(log(sqrt(x * 1/x) * sqrt(1/pi))))"
   ]
  },
  {
   "cell_type": "code",
   "execution_count": 20,
   "metadata": {
    "collapsed": false
   },
   "outputs": [
    {
     "name": "stdout",
     "output_type": "stream",
     "text": [
      "log(exp(x) + 1)**(-2)\n"
     ]
    }
   ],
   "source": [
    "print(simplify(\\\n",
    "               1/((log(1+exp(x)))**2) \\\n",
    "              ))"
   ]
  },
  {
   "cell_type": "code",
   "execution_count": 23,
   "metadata": {
    "collapsed": false
   },
   "outputs": [
    {
     "name": "stdout",
     "output_type": "stream",
     "text": [
      "log(1/(pi*log(exp(x) + 1)**2))/2\n"
     ]
    }
   ],
   "source": [
    "one_over_variances = 1/((log(1+exp(x)))**2)\n",
    "print(simplify(\\\n",
    "               log(one_over_variances/pi)/2 \\\n",
    "              ))"
   ]
  }
 ],
 "metadata": {
  "kernelspec": {
   "display_name": "Python 3",
   "language": "python",
   "name": "python3"
  },
  "language_info": {
   "codemirror_mode": {
    "name": "ipython",
    "version": 3
   },
   "file_extension": ".py",
   "mimetype": "text/x-python",
   "name": "python",
   "nbconvert_exporter": "python",
   "pygments_lexer": "ipython3",
   "version": "3.5.2"
  }
 },
 "nbformat": 4,
 "nbformat_minor": 2
}
