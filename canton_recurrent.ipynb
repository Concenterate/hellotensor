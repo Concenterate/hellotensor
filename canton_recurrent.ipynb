{
 "cells": [
  {
   "cell_type": "code",
   "execution_count": 1,
   "metadata": {
    "collapsed": true
   },
   "outputs": [],
   "source": [
    "import tensorflow as tf\n",
    "import canton as ct\n",
    "import numpy as np"
   ]
  },
  {
   "cell_type": "markdown",
   "metadata": {},
   "source": [
    "testing GRU implementation with tf.scan."
   ]
  },
  {
   "cell_type": "code",
   "execution_count": 7,
   "metadata": {
    "collapsed": false
   },
   "outputs": [
    {
     "data": {
      "text/plain": [
       "array([[[-0.00191431, -0.00082441],\n",
       "        [-0.00491235, -0.00271329]],\n",
       "\n",
       "       [[-0.00498766, -0.0030383 ],\n",
       "        [-0.00952078, -0.00603461]]], dtype=float32)"
      ]
     },
     "execution_count": 7,
     "metadata": {},
     "output_type": "execute_result"
    }
   ],
   "source": [
    "a = tf.Variable([[[1.,2],[3,4]],[[4,5],[6,7]]])\n",
    "\n",
    "# assume state is 4-d vector [0,0.1,0.2,0.3]\n",
    "\n",
    "class GRU_onepass(ct.Can):\n",
    "    def __init__(self,num_h):\n",
    "        super().__init__()\n",
    "        # assume input is num_h d.\n",
    "        Dense = ct.Dense\n",
    "        self.wz = Dense(num_h+num_h,num_h)\n",
    "        self.wr = Dense(num_h+num_h,num_h)\n",
    "        self.w = Dense(num_h+num_h,num_h)\n",
    "        self.incan([self.wz,self.wr,self.w])\n",
    "        # http://colah.github.io/posts/2015-08-Understanding-LSTMs/\n",
    "        \n",
    "    def __call__(self,i):\n",
    "        # assume hidden, input is of shape [batch,num_h] and [batch,num_h]\n",
    "        hidden = i[0]\n",
    "        inp = i[1]\n",
    "        wz,wr,w = self.wz,self.wr,self.w\n",
    "        c = tf.concat([hidden,inp],axis=1)\n",
    "        z = tf.sigmoid(wz(c))\n",
    "        r = tf.sigmoid(wr(c))\n",
    "        h_c = tf.tanh(w(tf.concat([hidden*r,inp],axis=1)))\n",
    "        h_new = (1-z) * hidden + z * h_c\n",
    "        return h_new\n",
    "\n",
    "class GRU(ct.Can):\n",
    "    def __init__(self,*args):\n",
    "        super().__init__()\n",
    "        self.gruo = GRU_onepass(*args)\n",
    "        def f(last_state, new_input):\n",
    "            return self.gruo([last_state, new_input])\n",
    "        self.bscan = ct.BatchScanner(f)\n",
    "        self.incan([self.gruo,self.bscan])\n",
    "    def __call__(self,i,*args):\n",
    "        return self.bscan(i,*args)\n",
    "        \n",
    "gruo = GRU_onepass(2)\n",
    "\n",
    "def f(last_state,new_input):\n",
    "    new_state = gruo([last_state,new_input])\n",
    "    return new_state\n",
    "\n",
    "# def f(last_state,new_input):\n",
    "#     new_state = tf.concat([last_state[0:2] + new_input, last_state[2:4]],axis=0)\n",
    "#     return new_state\n",
    "\n",
    "istate = tf.Variable([0,0.1])\n",
    "s = ct.BatchScanner(f)\n",
    "k = s(a,starting_state=None)\n",
    "\n",
    "k = GRU(2)(a)\n",
    "\n",
    "sess = ct.get_session()\n",
    "sess.run(tf.global_variables_initializer())\n",
    "sess.run(k)"
   ]
  }
 ],
 "metadata": {
  "kernelspec": {
   "display_name": "Python 3",
   "language": "python",
   "name": "python3"
  },
  "language_info": {
   "codemirror_mode": {
    "name": "ipython",
    "version": 3
   },
   "file_extension": ".py",
   "mimetype": "text/x-python",
   "name": "python",
   "nbconvert_exporter": "python",
   "pygments_lexer": "ipython3",
   "version": "3.5.2"
  }
 },
 "nbformat": 4,
 "nbformat_minor": 2
}
