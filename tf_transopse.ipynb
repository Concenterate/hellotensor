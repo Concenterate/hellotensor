{
 "cells": [
  {
   "cell_type": "code",
   "execution_count": 1,
   "metadata": {
    "collapsed": false
   },
   "outputs": [],
   "source": [
    "import tensorflow as tf\n",
    "import canton as ct"
   ]
  },
  {
   "cell_type": "code",
   "execution_count": 11,
   "metadata": {
    "collapsed": false
   },
   "outputs": [
    {
     "data": {
      "text/plain": [
       "[array([[[1, 2],\n",
       "         [3, 4]],\n",
       " \n",
       "        [[4, 5],\n",
       "         [6, 7]]], dtype=int32), array([2, 2, 2], dtype=int32), array([[[1, 2],\n",
       "         [4, 5]],\n",
       " \n",
       "        [[3, 4],\n",
       "         [6, 7]]], dtype=int32), array([[[1, 2],\n",
       "         [3, 4]],\n",
       " \n",
       "        [[4, 5],\n",
       "         [6, 7]]], dtype=int32)]"
      ]
     },
     "execution_count": 11,
     "metadata": {},
     "output_type": "execute_result"
    }
   ],
   "source": [
    "a = tf.Variable([[[1,2],[3,4]],[[4,5],[6,7]]])\n",
    "sp = tf.shape(a)\n",
    "\n",
    "ta = tf.transpose(a,perm=[1,0,2])\n",
    "\n",
    "tta = tf.transpose(ta,perm=[1,0,2])\n",
    "\n",
    "s= ct.get_session()\n",
    "s.run(tf.global_variables_initializer())\n",
    "s.run([a,sp,ta,tta])"
   ]
  }
 ],
 "metadata": {
  "kernelspec": {
   "display_name": "Python 3",
   "language": "python",
   "name": "python3"
  },
  "language_info": {
   "codemirror_mode": {
    "name": "ipython",
    "version": 3
   },
   "file_extension": ".py",
   "mimetype": "text/x-python",
   "name": "python",
   "nbconvert_exporter": "python",
   "pygments_lexer": "ipython3",
   "version": "3.5.2"
  }
 },
 "nbformat": 4,
 "nbformat_minor": 2
}
