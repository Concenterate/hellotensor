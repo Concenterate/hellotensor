{
 "cells": [
  {
   "cell_type": "code",
   "execution_count": 16,
   "metadata": {
    "collapsed": false
   },
   "outputs": [
    {
     "name": "stdout",
     "output_type": "stream",
     "text": [
      "[[[ 1.  2.]]\n",
      "\n",
      " [[ 5.  6.]]\n",
      "\n",
      " [[ 7.  8.]]]\n",
      "shape: (3, 1, 2)\n",
      "----\n",
      "[[[ 0.  0.]]\n",
      "\n",
      " [[ 0.  0.]]\n",
      "\n",
      " [[ 0.  0.]]]\n",
      "shape: (3, 1, 2)\n",
      "----\n",
      "[[[[ 1.  2.]]\n",
      "\n",
      "  [[ 0.  0.]]]\n",
      "\n",
      "\n",
      " [[[ 5.  6.]]\n",
      "\n",
      "  [[ 0.  0.]]]\n",
      "\n",
      "\n",
      " [[[ 7.  8.]]\n",
      "\n",
      "  [[ 0.  0.]]]]\n",
      "shape: (3, 2, 1, 2)\n",
      "----\n",
      "[[[ 1.  2.]\n",
      "  [ 0.  0.]]\n",
      "\n",
      " [[ 5.  6.]\n",
      "  [ 0.  0.]]\n",
      "\n",
      " [[ 7.  8.]\n",
      "  [ 0.  0.]]]\n",
      "shape: (3, 2, 2)\n",
      "----\n"
     ]
    }
   ],
   "source": [
    "import tensorflow as tf\n",
    "\n",
    "a = tf.Variable([[[1,2]],[[5,6]],[[7,8]]],dtype=tf.float32)\n",
    "s = tf.shape(a)\n",
    "z = tf.zeros(s)\n",
    "stack = tf.stack([a,z],axis=1)\n",
    "holed = tf.reshape(stack,[s[0],s[1]*2,s[2]])\n",
    "\n",
    "with tf.Session() as sess:\n",
    "    sess.run(tf.global_variables_initializer())\n",
    "    res = sess.run([a,z,k,g])\n",
    "    for i in res:\n",
    "        print(i)\n",
    "        if hasattr(i,'shape'):\n",
    "            print('shape:',i.shape)\n",
    "        print('----')"
   ]
  }
 ],
 "metadata": {
  "anaconda-cloud": {},
  "kernelspec": {
   "display_name": "Python [default]",
   "language": "python",
   "name": "python3"
  },
  "language_info": {
   "codemirror_mode": {
    "name": "ipython",
    "version": 3
   },
   "file_extension": ".py",
   "mimetype": "text/x-python",
   "name": "python",
   "nbconvert_exporter": "python",
   "pygments_lexer": "ipython3",
   "version": "3.5.2"
  }
 },
 "nbformat": 4,
 "nbformat_minor": 1
}
