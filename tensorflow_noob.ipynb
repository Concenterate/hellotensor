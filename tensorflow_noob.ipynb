{
 "cells": [
  {
   "cell_type": "code",
   "execution_count": 1,
   "metadata": {
    "collapsed": true
   },
   "outputs": [],
   "source": [
    "import tensorflow as tf"
   ]
  },
  {
   "cell_type": "markdown",
   "metadata": {},
   "source": [
    "本课程的代码，你最好输到 ipython 里运行，因为python原生的解释器很难用。\n",
    "\n",
    "首先定义输入和输出变量："
   ]
  },
  {
   "cell_type": "code",
   "execution_count": 2,
   "metadata": {
    "collapsed": true
   },
   "outputs": [],
   "source": [
    "shuru = tf.Variable([1.0, 2.0, 3.0, 4.0])\n",
    "shuchu = tf.Variable([2.0, 4.0, 6.0, 8.0])"
   ]
  },
  {
   "cell_type": "markdown",
   "metadata": {},
   "source": [
    "输入和输出的关系，也许你一眼就看出来了，但计算机看不出来。我们现在要让计算机从输入和输出数据中找到这个关系。\n",
    "\n",
    "首先假设：\n",
    "\n",
    "输出 = 输入 * 乘数\n",
    "\n",
    "然后我们就可以让 tensorflow 用 梯度下降法 帮我们找到 乘数 是多少了。先随便选个乘数吧："
   ]
  },
  {
   "cell_type": "code",
   "execution_count": 3,
   "metadata": {
    "collapsed": true
   },
   "outputs": [],
   "source": [
    "chengshu = tf.Variable(0.)\n",
    "\n",
    "jieguo = shuru * chengshu"
   ]
  },
  {
   "cell_type": "markdown",
   "metadata": {},
   "source": [
    "这里的 结果 跟已知的 输出 有误差。如果我们能够调整乘数来降低这个误差，当误差接近0的时候，乘数自然就是我们要找的值了。\n",
    "\n",
    "这个误差怎么定义呢？不妨取两数之差的平方的平均值，即 “均方差(MSE)”，作为误差："
   ]
  },
  {
   "cell_type": "code",
   "execution_count": 4,
   "metadata": {
    "collapsed": true
   },
   "outputs": [],
   "source": [
    "wucha = tf.reduce_mean((jieguo - shuchu) ** 2) "
   ]
  },
  {
   "cell_type": "markdown",
   "metadata": {},
   "source": [
    "因为平方的结果是非负的，所以当wucha降低的时候，我们可以确定jieguo越来越接近shuchu，而chengshu则越来越接近我们要找的值。\n",
    "\n",
    "现在我们要定义一个操作，通过 **计算chengshu对wucha的偏导数，并从chengshu减去这个偏导数，以降低wucha**。这个操作常被称为**梯度下降**。通常这个操作每执行一遍，误差就会降低一点点。"
   ]
  },
  {
   "cell_type": "code",
   "execution_count": 5,
   "metadata": {
    "collapsed": true
   },
   "outputs": [],
   "source": [
    "tiduxiajiang = tf.train.GradientDescentOptimizer(0.01)\n",
    "caozuo = tiduxiajiang.minimize(wucha, var_list=[chengshu])"
   ]
  },
  {
   "cell_type": "markdown",
   "metadata": {},
   "source": [
    "然后我们要创建一个session，跟tensorflow的执行核心通信："
   ]
  },
  {
   "cell_type": "code",
   "execution_count": 6,
   "metadata": {
    "collapsed": true
   },
   "outputs": [],
   "source": [
    "session = tf.Session()"
   ]
  },
  {
   "cell_type": "markdown",
   "metadata": {},
   "source": [
    "先进行全局变量初始化（不能漏哦），然后把我们需要求的值，以及需要执行的操作，交给session来帮我们完成。"
   ]
  },
  {
   "cell_type": "code",
   "execution_count": 7,
   "metadata": {
    "collapsed": false
   },
   "outputs": [
    {
     "data": {
      "text/plain": [
       "[30.0, 0.29999998, None]"
      ]
     },
     "execution_count": 7,
     "metadata": {},
     "output_type": "execute_result"
    }
   ],
   "source": [
    "session.run(tf.global_variables_initializer())\n",
    "\n",
    "session.run([wucha,chengshu,caozuo])"
   ]
  },
  {
   "cell_type": "markdown",
   "metadata": {},
   "source": [
    "一共返回了三个数值，第一个是误差，第二个是乘数，第三个是梯度下降操作的返回值（None）。\n",
    "\n",
    "不如再运行多几遍，并用print函数输出运行结果，看看什么情况："
   ]
  },
  {
   "cell_type": "code",
   "execution_count": 8,
   "metadata": {
    "collapsed": false
   },
   "outputs": [
    {
     "name": "stdout",
     "output_type": "stream",
     "text": [
      "[21.674999, 0.55499995, None]\n",
      "[15.660188, 0.77174997, None]\n",
      "[11.314486, 0.95598745, None]\n",
      "[8.1747169, 1.1125894, None]\n",
      "[5.9062319, 1.245701, None]\n",
      "[4.2672529, 1.3588458, None]\n",
      "[3.0830898, 1.455019, None]\n",
      "[2.2275321, 1.5367662, None]\n",
      "[1.6093917, 1.6062512, None]\n",
      "[1.1627858, 1.6653136, None]\n",
      "[0.84011245, 1.7155166, None]\n",
      "[0.60698116, 1.7581891, None]\n",
      "[0.43854395, 1.7944608, None]\n",
      "[0.3168478, 1.8252916, None]\n",
      "[0.22892261, 1.8514979, None]\n",
      "[0.16539653, 1.8737732, None]\n",
      "[0.11949898, 1.8927072, None]\n",
      "[0.086338058, 1.9088012, None]\n",
      "[0.062379144, 1.9224811, None]\n",
      "[0.045068897, 1.9341089, None]\n"
     ]
    }
   ],
   "source": [
    "for i in range(20):\n",
    "    print(session.run([wucha,chengshu,caozuo]))"
   ]
  },
  {
   "cell_type": "markdown",
   "metadata": {},
   "source": [
    "注意到了吗，误差越来越小，而乘数越来越接近2， 看来计算机也找到输入和输出的关系了。\n",
    "\n",
    "利用这个方法，我们可以让计算机学会很多东西。如果你对这个领域很感兴趣，应该报考计算机专业。"
   ]
  }
 ],
 "metadata": {
  "anaconda-cloud": {},
  "kernelspec": {
   "display_name": "Python [default]",
   "language": "python",
   "name": "python3"
  },
  "language_info": {
   "codemirror_mode": {
    "name": "ipython",
    "version": 3
   },
   "file_extension": ".py",
   "mimetype": "text/x-python",
   "name": "python",
   "nbconvert_exporter": "python",
   "pygments_lexer": "ipython3",
   "version": "3.5.2"
  }
 },
 "nbformat": 4,
 "nbformat_minor": 1
}
