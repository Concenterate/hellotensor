{
 "cells": [
  {
   "cell_type": "code",
   "execution_count": 1,
   "metadata": {
    "collapsed": true
   },
   "outputs": [],
   "source": [
    "import theano as th\n",
    "import theano.tensor as T"
   ]
  },
  {
   "cell_type": "code",
   "execution_count": 2,
   "metadata": {
    "collapsed": false
   },
   "outputs": [
    {
     "data": {
      "text/plain": [
       "array(6.0)"
      ]
     },
     "execution_count": 2,
     "metadata": {},
     "output_type": "execute_result"
    }
   ],
   "source": [
    "a = T.scalar()\n",
    "b = T.scalar()\n",
    "c = a*b\n",
    "\n",
    "f = th.function([a,b],c)\n",
    "\n",
    "f(2,3)"
   ]
  },
  {
   "cell_type": "code",
   "execution_count": 28,
   "metadata": {
    "collapsed": false
   },
   "outputs": [],
   "source": [
    "state = th.shared(1)\n",
    "inc = T.iscalar()\n",
    "dec = T.iscalar()\n",
    "\n",
    "accumulate = th.function([inc],state,updates=[(state,state+inc)],on_unused_input='ignore')\n",
    "decrement = th.function([dec],state,updates=[(state,state-dec)])"
   ]
  },
  {
   "cell_type": "code",
   "execution_count": 29,
   "metadata": {
    "collapsed": false
   },
   "outputs": [
    {
     "name": "stdout",
     "output_type": "stream",
     "text": [
      "1\n",
      "11\n",
      "16\n",
      "13\n"
     ]
    }
   ],
   "source": [
    "print(accumulate(10))\n",
    "print(accumulate(5))\n",
    "print(decrement(3))\n",
    "print(state.get_value())"
   ]
  },
  {
   "cell_type": "code",
   "execution_count": 30,
   "metadata": {
    "collapsed": false
   },
   "outputs": [
    {
     "name": "stdout",
     "output_type": "stream",
     "text": [
      "[array(2)]\n",
      "[array(12)]\n",
      "17\n"
     ]
    }
   ],
   "source": [
    "newstate = th.shared(2)\n",
    "new_acc = accumulate.copy(swap={state:newstate})\n",
    "print(new_acc(10))\n",
    "print(new_acc(5))\n",
    "print(newstate.get_value())"
   ]
  },
  {
   "cell_type": "code",
   "execution_count": 31,
   "metadata": {
    "collapsed": false
   },
   "outputs": [
    {
     "name": "stdout",
     "output_type": "stream",
     "text": [
      "13\n"
     ]
    }
   ],
   "source": [
    "null_acc = accumulate.copy(delete_updates=True)\n",
    "null_acc(9000)\n",
    "print(state.get_value())"
   ]
  },
  {
   "cell_type": "code",
   "execution_count": 34,
   "metadata": {
    "collapsed": false
   },
   "outputs": [
    {
     "name": "stdout",
     "output_type": "stream",
     "text": [
      "[[ 0.72803009  0.59044123  0.23715077]\n",
      " [ 0.69958932  0.86608782  0.35008632]]\n",
      "[[ 0.37173976  0.5594106   0.33626034]\n",
      " [ 0.62003789  0.81396029  0.22291474]]\n",
      "[[ 0.37173976  0.5594106   0.33626034]\n",
      " [ 0.62003789  0.81396029  0.22291474]]\n"
     ]
    }
   ],
   "source": [
    "from theano.tensor.shared_randomstreams import RandomStreams\n",
    "\n",
    "srng = RandomStreams(seed=123)\n",
    "uniform = srng.uniform((2,3))\n",
    "\n",
    "rngf = th.function([],uniform)\n",
    "rngf_static = th.function([],uniform,no_default_updates=True)\n",
    "\n",
    "print(rngf())\n",
    "print(rngf_static())\n",
    "print(rngf_static())"
   ]
  },
  {
   "cell_type": "markdown",
   "metadata": {},
   "source": [
    "Note how static version won't update rng's state.\n",
    "\n",
    "Oh and, all references to one random variable produce same value during one function evaluation."
   ]
  },
  {
   "cell_type": "code",
   "execution_count": 37,
   "metadata": {
    "collapsed": false
   },
   "outputs": [
    {
     "data": {
      "text/plain": [
       "array([[ 0.,  0.,  0.],\n",
       "       [ 0.,  0.,  0.]])"
      ]
     },
     "execution_count": 37,
     "metadata": {},
     "output_type": "execute_result"
    }
   ],
   "source": [
    "nearly_zeros = th.function([], uniform + uniform - 2 * uniform)\n",
    "nearly_zeros()"
   ]
  },
  {
   "cell_type": "code",
   "execution_count": null,
   "metadata": {
    "collapsed": false
   },
   "outputs": [],
   "source": []
  }
 ],
 "metadata": {
  "kernelspec": {
   "display_name": "Python 3",
   "language": "python",
   "name": "python3"
  },
  "language_info": {
   "codemirror_mode": {
    "name": "ipython",
    "version": 3
   },
   "file_extension": ".py",
   "mimetype": "text/x-python",
   "name": "python",
   "nbconvert_exporter": "python",
   "pygments_lexer": "ipython3",
   "version": "3.5.2"
  }
 },
 "nbformat": 4,
 "nbformat_minor": 2
}
