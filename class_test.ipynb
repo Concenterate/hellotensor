{
 "cells": [
  {
   "cell_type": "code",
   "execution_count": 1,
   "metadata": {
    "collapsed": false
   },
   "outputs": [
    {
     "name": "stdout",
     "output_type": "stream",
     "text": [
      "bark b\n",
      "bark a\n"
     ]
    }
   ],
   "source": [
    "class a:\n",
    "    def __init__(self):\n",
    "        self.id = 'a'\n",
    "        \n",
    "class b(a):\n",
    "    def __init__(self):\n",
    "        super().__init__()\n",
    "        self.id = 'b'\n",
    "        \n",
    "    def bark(self):\n",
    "        print('bark',self.id)\n",
    "\n",
    "class c(b):\n",
    "    def __init__(self):\n",
    "        super().__init__()\n",
    "        \n",
    "class d(b):\n",
    "    def __init__(self):\n",
    "        a.__init__(self)\n",
    "        \n",
    "charlie = c()\n",
    "delta = d()\n",
    "\n",
    "charlie.bark()\n",
    "delta.bark()"
   ]
  },
  {
   "cell_type": "code",
   "execution_count": 2,
   "metadata": {
    "collapsed": false
   },
   "outputs": [
    {
     "data": {
      "text/plain": [
       "array([2, 3, 4])"
      ]
     },
     "execution_count": 2,
     "metadata": {},
     "output_type": "execute_result"
    }
   ],
   "source": [
    "import numpy as np\n",
    "np.arange(2,5)"
   ]
  }
 ],
 "metadata": {
  "anaconda-cloud": {},
  "kernelspec": {
   "display_name": "Python [default]",
   "language": "python",
   "name": "python3"
  },
  "language_info": {
   "codemirror_mode": {
    "name": "ipython",
    "version": 3
   },
   "file_extension": ".py",
   "mimetype": "text/x-python",
   "name": "python",
   "nbconvert_exporter": "python",
   "pygments_lexer": "ipython3",
   "version": "3.5.2"
  }
 },
 "nbformat": 4,
 "nbformat_minor": 1
}
